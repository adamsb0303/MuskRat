{
 "cells": [
  {
   "cell_type": "code",
   "execution_count": 3,
   "metadata": {},
   "outputs": [],
   "source": [
    "#When input image is selected, run it through models and make predictions \n",
    "import matplotlib.pyplot as plt\n",
    "import cv2\n",
    "import tensorflow as tf\n",
    "from tensorflow import keras \n",
    "import numpy as np\n",
    "\n",
    "# Display\n",
    "from IPython.display import Image, display\n",
    "import matplotlib.pyplot as plt\n",
    "import matplotlib.cm as cm"
   ]
  },
  {
   "cell_type": "code",
   "execution_count": 4,
   "metadata": {},
   "outputs": [
    {
     "data": {
      "image/jpeg": "[encoded data removed]",
      "text/plain": [
       "<IPython.core.display.Image object>"
      ]
     },
     "metadata": {},
     "output_type": "display_data"
    }
   ],
   "source": [
    "model_builder = keras.applications.xception.Xception\n",
    "img_size = (128, 128)\n",
    "preprocess_input = keras.applications.xception.preprocess_input\n",
    "decode_predictions = keras.applications.xception.decode_predictions\n",
    "\n",
    "last_conv_layer_name = \"conv2d\"\n",
    "\n",
    "# The local path to our target image\n",
    "img_path = 'C:\\\\Users\\\\624411\\\\Desktop\\\\Project_working\\\\MuskRat\\\\thisone\\\\test_internet\\\\fake_image\\\\elon_musk_fake.jpg'\n",
    "\n",
    "display(Image(img_path))"
   ]
  },
  {
   "cell_type": "code",
   "execution_count": 5,
   "metadata": {},
   "outputs": [],
   "source": [
    "def get_img_array(img_path, size):\n",
    "    # `img` is a PIL image of size 299x299\n",
    "    img = keras.preprocessing.image.load_img(img_path, target_size=size)\n",
    "    # `array` is a float32 Numpy array of shape (299, 299, 3)\n",
    "    array = keras.preprocessing.image.img_to_array(img)\n",
    "    # We add a dimension to transform our array into a \"batch\"\n",
    "    # of size (1, 299, 299, 3)\n",
    "    array = np.expand_dims(array, axis=0)\n",
    "    return array\n",
    "\n",
    "def make_gradcam_heatmap(img_array, model, last_conv_layer_name, pred_index=None):\n",
    "    # First, we create a model that maps the input image to the activations\n",
    "    # of the last conv layer as well as the output predictions\n",
    "    grad_model = tf.keras.models.Model(\n",
    "        [model.inputs], [model.get_layer(last_conv_layer_name).output, model.output]\n",
    "    )\n",
    "\n",
    "    # Then, we compute the gradient of the top predicted class for our input image\n",
    "    # with respect to the activations of the last conv layer\n",
    "    with tf.GradientTape() as tape:\n",
    "        last_conv_layer_output, preds = grad_model(img_array)\n",
    "        if pred_index is None:\n",
    "            pred_index = tf.argmax(preds[0])\n",
    "        class_channel = preds[:, pred_index]\n",
    "\n",
    "    # This is the gradient of the output neuron (top predicted or chosen)\n",
    "    # with regard to the output feature map of the last conv layer\n",
    "    grads = tape.gradient(class_channel, last_conv_layer_output)\n",
    "\n",
    "    # This is a vector where each entry is the mean intensity of the gradient\n",
    "    # over a specific feature map channel\n",
    "    pooled_grads = tf.reduce_mean(grads, axis=(0, 1, 2))\n",
    "\n",
    "    # We multiply each channel in the feature map array\n",
    "    # by \"how important this channel is\" with regard to the top predicted class\n",
    "    # then sum all the channels to obtain the heatmap class activation\n",
    "    last_conv_layer_output = last_conv_layer_output[0]\n",
    "    heatmap = last_conv_layer_output @ pooled_grads[..., tf.newaxis]\n",
    "    heatmap = tf.squeeze(heatmap)\n",
    "\n",
    "    # For visualization purpose, we will also normalize the heatmap between 0 & 1\n",
    "    heatmap = tf.maximum(heatmap, 0) / tf.math.reduce_max(heatmap)\n",
    "    return heatmap.numpy()"
   ]
  },
  {
   "cell_type": "code",
   "execution_count": 6,
   "metadata": {},
   "outputs": [],
   "source": [
    "IMG_SIZE = 128\n",
    "CATEGORIES = ['real', 'fake']\n",
    "\n",
    "model1 = keras.models.load_model('double_trained_model.h5')\n",
    "model2 = keras.models.load_model('model_00_20.h5')\n",
    "model3 = keras.models.load_model('model_20_40.h5')\n",
    "model4 = keras.models.load_model('model_40_60.h5')\n",
    "model5 = keras.models.load_model('model_q2_q4.h5')\n",
    "\n",
    "MODELS = [model1, model2, model3, model4, model5]"
   ]
  },
  {
   "cell_type": "code",
   "execution_count": 7,
   "metadata": {},
   "outputs": [],
   "source": [
    "#Function ingests a Lists, returns the most frequent value in list\n",
    "def most_frequent(List):\n",
    "    counter = 0\n",
    "    num = List[0]\n",
    "     \n",
    "    for i in List:\n",
    "        curr_frequency = List.count(i)\n",
    "        if(curr_frequency> counter):\n",
    "            counter = curr_frequency\n",
    "            num = i\n",
    " \n",
    "    return num"
   ]
  },
  {
   "cell_type": "code",
   "execution_count": 8,
   "metadata": {},
   "outputs": [],
   "source": [
    "def prediction_array(img):\n",
    "    pred = []\n",
    "\n",
    "    for mod in MODELS:\n",
    "        predictions = mod.predict(img)\n",
    "        pred.append(int(predictions[0][0]))\n",
    "    #append the most frequent result on total_pred list so that we return 1 list\n",
    "    pred.append(most_frequent(pred))\n",
    "    #print(pred)\n",
    "    return pred"
   ]
  },
  {
   "cell_type": "code",
   "execution_count": 16,
   "metadata": {},
   "outputs": [],
   "source": [
    "from tensorflow.keras.models import Model\n",
    "import tensorflow as tf\n",
    "import numpy as np\n",
    "import cv2"
   ]
  },
  {
   "cell_type": "code",
   "execution_count": 17,
   "metadata": {},
   "outputs": [],
   "source": [
    "class GradCAM:\n",
    "    def __init__(self, model, classIdx, layerName=None):\n",
    "        self.model = model\n",
    "        self.classIdx = classIdx\n",
    "        self.layerName = layerName\n",
    "        if self.layerName is None:\n",
    "            self.layerName = self.find_target_layer()\n",
    "\n",
    "    #setter has list in parameters\n",
    "    def set_model(self, mod):\n",
    "        self.model = mod"
   ]
  },
  {
   "cell_type": "code",
   "execution_count": 25,
   "metadata": {},
   "outputs": [],
   "source": [
    "def find_target_layer(model):\n",
    "\t# attempt to find the final convolutional layer in the network\n",
    "\t# by looping over the layers of the network in reverse order\n",
    "\tfor layer in reversed(model.layers):\n",
    "\t\t# check to see if the layer has a 4D output\n",
    "\t\tif len(layer.output_shape) == 4:\n",
    "\t\t\treturn layer.name\n",
    "\t# otherwise, we could not find a 4D layer so the GradCAM\n",
    "\t# algorithm cannot be applied\n",
    "\traise ValueError(\"Could not find 4D layer. Cannot apply GradCAM.\")"
   ]
  },
  {
   "cell_type": "code",
   "execution_count": 22,
   "metadata": {},
   "outputs": [],
   "source": [
    "def compute_heatmap(self, image, eps=1e-8):\n",
    "    # construct our gradient model by supplying (1) the inputs\n",
    "    # to our pre-trained model, (2) the output of the (presumably)\n",
    "    # final 4D layer in the network, and (3) the output of the\n",
    "    # softmax activations from the model\n",
    "    gradModel = Model(\n",
    "        inputs=[self.model.inputs],\n",
    "        outputs=[self.model.get_layer(self.layerName).output,\n",
    "            self.model.output])"
   ]
  },
  {
   "cell_type": "code",
   "execution_count": 28,
   "metadata": {},
   "outputs": [],
   "source": [
    "def get_list_of_predictions(img_path):\n",
    "    #parameter is path to input file on local machine \n",
    "    #convert image to grayscale \n",
    "    img_array = cv2.imread(img_path, cv2.IMREAD_GRAYSCALE)\n",
    "    #plt.imshow(img_array, cmap=\"gray\")\n",
    "    #plt.show()\n",
    "\n",
    "    #resize image to fit model input layer\n",
    "    img_array = cv2.resize(img_array, (IMG_SIZE, IMG_SIZE))\n",
    "    img_array = img_array.reshape(-1, 128, 128, 1)\n",
    "    #compute_heatmap(img_array)\n",
    "\n",
    "    #i = 0\n",
    "    temp_list = []\n",
    "    #make a prediction with each model\n",
    "    for mod in MODELS:\n",
    "        target_layer_name = find_target_layer(mod)\n",
    "        print(target_layer_name)\n",
    "        predictions = mod.predict(img_array)\n",
    "        temp_list.append(int(predictions[0][0]))\n",
    "\n",
    "        #heatmap\n",
    "        # Remove last layer's softmax\n",
    "        mod.layers[-1].activation = None\n",
    "\n",
    "        \n",
    "        # Print what the top predicted class is\n",
    "        preds = mod.predict(img_array)\n",
    "        #print(\"Predicted Class Model \" + str(i) + \": \" + CATEGORIES[int(predictions[0][0])])\n",
    "        #i = i + 1\n",
    "    pred = prediction_array(img_array)\n",
    "    print(\"hey\")\n",
    "    print(\"Predicted:\", decode_predictions(pred, top=1)[0])\n",
    "    #print(\"Predicted:\", decode_predictions(preds, top=1)[0])\n",
    "\n",
    "    # Generate class activation heatmap\n",
    "    heatmap = make_gradcam_heatmap(img_array, mod, last_conv_layer_name)\n",
    "\n",
    "    # Display heatmap\n",
    "    plt.matshow(heatmap)\n",
    "    plt.show()\n",
    "    #print(\"here\")\n",
    "    #print(pred)\n",
    "    return pred"
   ]
  },
  {
   "cell_type": "code",
   "execution_count": 29,
   "metadata": {},
   "outputs": [
    {
     "name": "stdout",
     "output_type": "stream",
     "text": [
      "1/1 [==============================] - 0s 149ms/step\n",
      "1/1 [==============================] - 0s 120ms/step\n",
      "1/1 [==============================] - 0s 110ms/step\n",
      "1/1 [==============================] - 0s 26ms/step\n",
      "1/1 [==============================] - 0s 30ms/step\n",
      "1/1 [==============================] - 0s 25ms/step\n",
      "1/1 [==============================] - 0s 45ms/step\n",
      "1/1 [==============================] - 0s 34ms/step\n",
      "1/1 [==============================] - 0s 26ms/step\n",
      "1/1 [==============================] - 0s 25ms/step\n",
      "1/1 [==============================] - 0s 33ms/step\n",
      "1/1 [==============================] - 0s 31ms/step\n",
      "1/1 [==============================] - 0s 24ms/step\n",
      "1/1 [==============================] - 0s 24ms/step\n",
      "1/1 [==============================] - 0s 24ms/step\n",
      "hey\n"
     ]
    },
    {
     "ename": "AttributeError",
     "evalue": "'list' object has no attribute 'shape'",
     "output_type": "error",
     "traceback": [
      "\u001b[1;31m---------------------------------------------------------------------------\u001b[0m",
      "\u001b[1;31mAttributeError\u001b[0m                            Traceback (most recent call last)",
      "\u001b[1;32mc:\\Users\\624411\\Desktop\\gui\\test_hm.ipynb Cell 12\u001b[0m in \u001b[0;36m<cell line: 1>\u001b[1;34m()\u001b[0m\n\u001b[1;32m----> <a href='vscode-notebook-cell:/c%3A/Users/624411/Desktop/gui/test_hm.ipynb#ch0000007?line=0'>1</a>\u001b[0m get_list_of_predictions(img_path)\n",
      "\u001b[1;32mc:\\Users\\624411\\Desktop\\gui\\test_hm.ipynb Cell 12\u001b[0m in \u001b[0;36mget_list_of_predictions\u001b[1;34m(img_path)\u001b[0m\n\u001b[0;32m     <a href='vscode-notebook-cell:/c%3A/Users/624411/Desktop/gui/test_hm.ipynb#ch0000007?line=29'>30</a>\u001b[0m pred \u001b[39m=\u001b[39m prediction_array(img_array)\n\u001b[0;32m     <a href='vscode-notebook-cell:/c%3A/Users/624411/Desktop/gui/test_hm.ipynb#ch0000007?line=30'>31</a>\u001b[0m \u001b[39mprint\u001b[39m(\u001b[39m\"\u001b[39m\u001b[39mhey\u001b[39m\u001b[39m\"\u001b[39m)\n\u001b[1;32m---> <a href='vscode-notebook-cell:/c%3A/Users/624411/Desktop/gui/test_hm.ipynb#ch0000007?line=31'>32</a>\u001b[0m \u001b[39mprint\u001b[39m(\u001b[39m\"\u001b[39m\u001b[39mPredicted:\u001b[39m\u001b[39m\"\u001b[39m, decode_predictions(pred, top\u001b[39m=\u001b[39;49m\u001b[39m1\u001b[39;49m)[\u001b[39m0\u001b[39m])\n\u001b[0;32m     <a href='vscode-notebook-cell:/c%3A/Users/624411/Desktop/gui/test_hm.ipynb#ch0000007?line=32'>33</a>\u001b[0m \u001b[39m#print(\"Predicted:\", decode_predictions(preds, top=1)[0])\u001b[39;00m\n\u001b[0;32m     <a href='vscode-notebook-cell:/c%3A/Users/624411/Desktop/gui/test_hm.ipynb#ch0000007?line=33'>34</a>\u001b[0m \n\u001b[0;32m     <a href='vscode-notebook-cell:/c%3A/Users/624411/Desktop/gui/test_hm.ipynb#ch0000007?line=34'>35</a>\u001b[0m \u001b[39m# Generate class activation heatmap\u001b[39;00m\n\u001b[0;32m     <a href='vscode-notebook-cell:/c%3A/Users/624411/Desktop/gui/test_hm.ipynb#ch0000007?line=35'>36</a>\u001b[0m heatmap \u001b[39m=\u001b[39m make_gradcam_heatmap(img_array, mod, last_conv_layer_name)\n",
      "File \u001b[1;32mc:\\Users\\624411\\Anaconda3\\envs\\tf-gpu\\lib\\site-packages\\keras\\applications\\xception.py:324\u001b[0m, in \u001b[0;36mdecode_predictions\u001b[1;34m(preds, top)\u001b[0m\n\u001b[0;32m    322\u001b[0m \u001b[39m@keras_export\u001b[39m(\u001b[39m'\u001b[39m\u001b[39mkeras.applications.xception.decode_predictions\u001b[39m\u001b[39m'\u001b[39m)\n\u001b[0;32m    323\u001b[0m \u001b[39mdef\u001b[39;00m \u001b[39mdecode_predictions\u001b[39m(preds, top\u001b[39m=\u001b[39m\u001b[39m5\u001b[39m):\n\u001b[1;32m--> 324\u001b[0m   \u001b[39mreturn\u001b[39;00m imagenet_utils\u001b[39m.\u001b[39;49mdecode_predictions(preds, top\u001b[39m=\u001b[39;49mtop)\n",
      "File \u001b[1;32mc:\\Users\\624411\\Anaconda3\\envs\\tf-gpu\\lib\\site-packages\\keras\\applications\\imagenet_utils.py:146\u001b[0m, in \u001b[0;36mdecode_predictions\u001b[1;34m(preds, top)\u001b[0m\n\u001b[0;32m    129\u001b[0m \u001b[39m\"\"\"Decodes the prediction of an ImageNet model.\u001b[39;00m\n\u001b[0;32m    130\u001b[0m \n\u001b[0;32m    131\u001b[0m \u001b[39mArgs:\u001b[39;00m\n\u001b[1;32m   (...)\u001b[0m\n\u001b[0;32m    142\u001b[0m \u001b[39m    (must be 2D).\u001b[39;00m\n\u001b[0;32m    143\u001b[0m \u001b[39m\"\"\"\u001b[39;00m\n\u001b[0;32m    144\u001b[0m \u001b[39mglobal\u001b[39;00m CLASS_INDEX\n\u001b[1;32m--> 146\u001b[0m \u001b[39mif\u001b[39;00m \u001b[39mlen\u001b[39m(preds\u001b[39m.\u001b[39;49mshape) \u001b[39m!=\u001b[39m \u001b[39m2\u001b[39m \u001b[39mor\u001b[39;00m preds\u001b[39m.\u001b[39mshape[\u001b[39m1\u001b[39m] \u001b[39m!=\u001b[39m \u001b[39m1000\u001b[39m:\n\u001b[0;32m    147\u001b[0m   \u001b[39mraise\u001b[39;00m \u001b[39mValueError\u001b[39;00m(\u001b[39m'\u001b[39m\u001b[39m`decode_predictions` expects \u001b[39m\u001b[39m'\u001b[39m\n\u001b[0;32m    148\u001b[0m                    \u001b[39m'\u001b[39m\u001b[39ma batch of predictions \u001b[39m\u001b[39m'\u001b[39m\n\u001b[0;32m    149\u001b[0m                    \u001b[39m'\u001b[39m\u001b[39m(i.e. a 2D array of shape (samples, 1000)). \u001b[39m\u001b[39m'\u001b[39m\n\u001b[0;32m    150\u001b[0m                    \u001b[39m'\u001b[39m\u001b[39mFound array with shape: \u001b[39m\u001b[39m'\u001b[39m \u001b[39m+\u001b[39m \u001b[39mstr\u001b[39m(preds\u001b[39m.\u001b[39mshape))\n\u001b[0;32m    151\u001b[0m \u001b[39mif\u001b[39;00m CLASS_INDEX \u001b[39mis\u001b[39;00m \u001b[39mNone\u001b[39;00m:\n",
      "\u001b[1;31mAttributeError\u001b[0m: 'list' object has no attribute 'shape'"
     ]
    }
   ],
   "source": [
    "get_list_of_predictions(img_path)"
   ]
  }
 ],
 "metadata": {
  "kernelspec": {
   "display_name": "Python 3.9.12 ('tf-gpu')",
   "language": "python",
   "name": "python3"
  },
  "language_info": {
   "codemirror_mode": {
    "name": "ipython",
    "version": 3
   },
   "file_extension": ".py",
   "mimetype": "text/x-python",
   "name": "python",
   "nbconvert_exporter": "python",
   "pygments_lexer": "ipython3",
   "version": "3.9.12"
  },
  "orig_nbformat": 4,
  "vscode": {
   "interpreter": {
    "hash": "c466081faad3890721e1057afad1ed119f8f73d11717f0d7d135755f98d78ca7"
   }
  }
 },
 "nbformat": 4,
 "nbformat_minor": 2
}
